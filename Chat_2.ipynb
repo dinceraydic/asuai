{
 "cells": [
  {
   "cell_type": "code",
   "execution_count": 1,
   "id": "49ca4b93-1260-4b2e-8c50-1dce89d7bf12",
   "metadata": {},
   "outputs": [],
   "source": [
    "# VECTOR STORE\n",
    "# QA ON THAT VECTOR STORE"
   ]
  },
  {
   "cell_type": "code",
   "execution_count": 2,
   "id": "3410418e-3839-4f2a-bf81-affc6af12fc4",
   "metadata": {},
   "outputs": [],
   "source": [
    "from langchain.embeddings.openai import OpenAIEmbeddings"
   ]
  },
  {
   "cell_type": "code",
   "execution_count": 3,
   "id": "3c627bf3-6ebf-4622-9f3a-3f68fe6e932e",
   "metadata": {},
   "outputs": [],
   "source": [
    "from langchain.vectorstores import Chroma"
   ]
  },
  {
   "cell_type": "code",
   "execution_count": 4,
   "id": "02c98686-768c-4336-9647-63605f62adb2",
   "metadata": {},
   "outputs": [],
   "source": [
    "embedding_function = OpenAIEmbeddings()"
   ]
  },
  {
   "cell_type": "code",
   "execution_count": 5,
   "id": "b608f07f-8d55-49d8-9589-95a3c65667bc",
   "metadata": {},
   "outputs": [],
   "source": [
    "db_connection = Chroma(persist_directory=\"./vector-store/yeni_vector_db_3\", embedding_function=embedding_function)\n",
    "# db_connection = Chroma(persist_directory=\"./vector-store/asu_ai_db_tr\", embedding_function=embedding_function)"
   ]
  },
  {
   "cell_type": "code",
   "execution_count": 6,
   "id": "3a8716d8-1302-4a52-a913-d67c8ca3aaf3",
   "metadata": {},
   "outputs": [],
   "source": [
    "from langchain.chains.question_answering import load_qa_chain"
   ]
  },
  {
   "cell_type": "code",
   "execution_count": 7,
   "id": "d292fd75-fc28-47a6-9446-39e55ac726d8",
   "metadata": {},
   "outputs": [],
   "source": [
    "from langchain.chains.qa_with_sources import load_qa_with_sources_chain"
   ]
  },
  {
   "cell_type": "code",
   "execution_count": 8,
   "id": "bd299fb9-41b8-46e2-9ed4-a90481c32fdb",
   "metadata": {},
   "outputs": [],
   "source": [
    "from langchain.chat_models import ChatOpenAI"
   ]
  },
  {
   "cell_type": "code",
   "execution_count": 9,
   "id": "44cb4305-c944-44e5-bd44-b62b0fa382af",
   "metadata": {},
   "outputs": [],
   "source": [
    "llm=ChatOpenAI(temperature=0)"
   ]
  },
  {
   "cell_type": "code",
   "execution_count": 10,
   "id": "f1b9f760-c91d-4e80-92cb-5090b8b916f2",
   "metadata": {},
   "outputs": [],
   "source": [
    "chain = load_qa_chain(\n",
    "    llm,\n",
    "    chain_type=\"stuff\"\n",
    ")"
   ]
  },
  {
   "cell_type": "code",
   "execution_count": 11,
   "id": "81269739-628f-408a-8458-f3312613356e",
   "metadata": {},
   "outputs": [],
   "source": [
    "question = \"Hangi lisansüstü programlar ücretsizdir?\""
   ]
  },
  {
   "cell_type": "code",
   "execution_count": 12,
   "id": "cf5e5237-9001-4d6e-9b98-082a884a02ff",
   "metadata": {},
   "outputs": [],
   "source": [
    "docs = db_connection.similarity_search(question)"
   ]
  },
  {
   "cell_type": "code",
   "execution_count": 13,
   "id": "d7646d73-9852-46e4-b6b0-70970f81e3af",
   "metadata": {},
   "outputs": [
    {
     "name": "stdout",
     "output_type": "stream",
     "text": [
      "[Document(page_content='Soru 4: Tezsiz Yüksek Lisans programlarında ücretsiz veya indirimli öğrenim avantajları var mı?\\n\\nCevap 4: Evet, Tezsiz Yüksek Lisans programlarında şehit ve gazi yakınları için ücretsiz, engelliler için ise engellilik oranlarına göre indirim uygulanmaktadır.\\n\\nSoru 5: Tezsiz Yüksek Lisans programları için protokol yapılan kurum çalışanlarına özel ücret politikası nedir?', metadata={'source': './data/yeni_sss.txt'}), Document(page_content='Soru 1: Lisansüstü programlarınıza başvuruda bulunmak için hangi aşamalardan geçmeliyim?', metadata={'source': './data/yeni_sss.txt'}), Document(page_content=\"Cevap 4: Evet, Tezsiz Yüksek Lisans programlarında şehit ve gazi yakınları için ücretsiz, engelliler için ise engellilik oranlarına göre indirim uygulanmaktadır.\\n\\nSoru 5: Tezsiz Yüksek Lisans programları için protokol yapılan kurum çalışanlarına özel ücret politikası nedir?\\n\\nCevap 5: Tezsiz Yüksek Lisans programları için protokol yapılan kurum çalışanları için ücret 3400 TL'dir.\", metadata={'source': './data/yeni_sss.txt'}), Document(page_content='Soru 1: Tezli Yüksek Lisans ve Doktora programları için ücret ödeme zorunluluğu var mı?\\n\\nCevap 1: Hayır, Tezli Yüksek Lisans ve Doktora programları ücretsizdir. Ancak, normal süre içinde mezun olunamadığı durumda, azami süre dolana kadar belirli bir ücret ödenmesi gerekebilir.\\n\\nSoru 2: Tezsiz Yüksek Lisans programlarında ücret nasıl belirlenmiştir?', metadata={'source': './data/yeni_sss.txt'})]\n"
     ]
    }
   ],
   "source": [
    "print(docs)"
   ]
  },
  {
   "cell_type": "code",
   "execution_count": 14,
   "id": "439908a5-54af-464e-bb49-631a676f289c",
   "metadata": {},
   "outputs": [],
   "source": [
    "result = chain.run(input_documents=docs, question=question)"
   ]
  },
  {
   "cell_type": "code",
   "execution_count": 15,
   "id": "c534a67d-a999-4e0c-a89b-035f8141c744",
   "metadata": {},
   "outputs": [
    {
     "data": {
      "text/plain": [
       "'Tezsiz Yüksek Lisans programlarında şehit ve gazi yakınları için ücretsiz, engelliler için ise engellilik oranlarına göre indirim uygulanmaktadır. Tezli Yüksek Lisans ve Doktora programları ise ücretsizdir, ancak normal süre içinde mezun olunamadığı durumda belirli bir ücret ödenmesi gerekebilir.'"
      ]
     },
     "execution_count": 15,
     "metadata": {},
     "output_type": "execute_result"
    }
   ],
   "source": [
    "result"
   ]
  },
  {
   "cell_type": "code",
   "execution_count": 16,
   "id": "8411b1c5-6538-44ae-99ed-9353c4a9dd73",
   "metadata": {},
   "outputs": [],
   "source": [
    "questions = [\n",
    "                \"Lisansüstü programlara ücret ödeyecek miyim? Doktora, tezsiz yüksek lisans ve yüksek lisans için ücretler kaç TL?\",\n",
    "                \"Lisansüstü programlara ücret ödeyecek miyim?\",\n",
    "                \"hangi lisansüstü programlar ücretsizdir?\",\n",
    "                \"hangi lisansüstü programlar ücretlidir?\",\n",
    "                \"tezsiz yüksek lisans programlara ücret ödeyecek miyim?\",\n",
    "                \"şehit ve gazi yakınları için ücretli mi?\",\n",
    "                \"burs başvurusu yapabilir miyim?\",\n",
    "                \"nasıl burs başvurusu yapabilirim?\",\n",
    "                \"nasıl yatay geçiş yapabilirim\",\n",
    "                \"Lisansüstü programlarda kaç ders alırım\",\n",
    "                \"Tezsiz Yüksek Lisansta kaç ders alırım\",\n",
    "                \"doktorada kaç ders alırım\",\n",
    "            ]"
   ]
  },
  {
   "cell_type": "code",
   "execution_count": null,
   "id": "9fa29368-64c2-4ec1-acc9-8b954f12e9e9",
   "metadata": {},
   "outputs": [],
   "source": [
    "qnas = []\n",
    "for question in questions:\n",
    "    qnas.append(\n",
    "        {\n",
    "            \"question\":question,\n",
    "             \"answer\": chain.run(input_documents=docs, question=question)\n",
    "        }\n",
    "    )"
   ]
  },
  {
   "cell_type": "code",
   "execution_count": null,
   "id": "15446162-2f87-47a1-98df-d21937327ad5",
   "metadata": {},
   "outputs": [],
   "source": [
    "for item in qnas:\n",
    "    print(f\"Soru: {item['question']}\")\n",
    "    print(f\"Cevap: {item['answer']}\")\n",
    "    print(\"\")"
   ]
  },
  {
   "cell_type": "code",
   "execution_count": null,
   "id": "c9b88756-9aae-4611-b872-87e37a32b6e8",
   "metadata": {},
   "outputs": [],
   "source": []
  }
 ],
 "metadata": {
  "kernelspec": {
   "display_name": "Python 3 (ipykernel)",
   "language": "python",
   "name": "python3"
  },
  "language_info": {
   "codemirror_mode": {
    "name": "ipython",
    "version": 3
   },
   "file_extension": ".py",
   "mimetype": "text/x-python",
   "name": "python",
   "nbconvert_exporter": "python",
   "pygments_lexer": "ipython3",
   "version": "3.11.6"
  }
 },
 "nbformat": 4,
 "nbformat_minor": 5
}
