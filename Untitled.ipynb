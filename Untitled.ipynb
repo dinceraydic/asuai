{
 "cells": [
  {
   "cell_type": "code",
   "execution_count": 1,
   "id": "c2c86553-ee05-4811-9321-52ff01aba9cf",
   "metadata": {},
   "outputs": [],
   "source": [
    "import os\n",
    "\n",
    "import streamlit as st\n",
    "from dotenv import load_dotenv"
   ]
  },
  {
   "cell_type": "code",
   "execution_count": 2,
   "id": "1f216494-6dc2-4995-9850-ad2684d2bdd7",
   "metadata": {},
   "outputs": [],
   "source": [
    "from langchain.chat_models import ChatOpenAI\n",
    "from langchain.document_loaders import TextLoader\n",
    "from langchain.embeddings import OpenAIEmbeddings\n",
    "from langchain.retrievers.multi_query import MultiQueryRetriever\n",
    "from langchain.text_splitter import CharacterTextSplitter\n",
    "from langchain.vectorstores import Chroma"
   ]
  },
  {
   "cell_type": "code",
   "execution_count": 3,
   "id": "63392857-fb56-4344-bdfd-fa91235b691c",
   "metadata": {},
   "outputs": [],
   "source": [
    "load_dotenv(\".env\")\n",
    "api_key = os.environ.get(\"OPENAI_API_KEY\")"
   ]
  },
  {
   "cell_type": "code",
   "execution_count": 4,
   "id": "7467d0ae-a199-4255-a0a2-5cae68387c8d",
   "metadata": {},
   "outputs": [],
   "source": [
    "txt_file = \"./data/SSS.txt\""
   ]
  },
  {
   "cell_type": "code",
   "execution_count": 5,
   "id": "547b33f2-2ea9-4c14-bd9a-ffa7cb42c4e5",
   "metadata": {},
   "outputs": [],
   "source": [
    "text_splitter = CharacterTextSplitter.from_tiktoken_encoder(chunk_size=200)\n",
    "embedding_function = OpenAIEmbeddings()"
   ]
  },
  {
   "cell_type": "code",
   "execution_count": 6,
   "id": "3131eca7-1709-48aa-92d5-c2d408091beb",
   "metadata": {},
   "outputs": [],
   "source": [
    "# Load documents\n",
    "loader = TextLoader(txt_file, encoding=\"UTF-8\")\n",
    "documents = loader.load()"
   ]
  },
  {
   "cell_type": "code",
   "execution_count": 7,
   "id": "2cb15f82-1e04-407a-963b-6ccba0008a63",
   "metadata": {},
   "outputs": [
    {
     "name": "stderr",
     "output_type": "stream",
     "text": [
      "Created a chunk of size 562, which is longer than the specified 200\n",
      "Created a chunk of size 221, which is longer than the specified 200\n",
      "Created a chunk of size 260, which is longer than the specified 200\n",
      "Created a chunk of size 204, which is longer than the specified 200\n",
      "Created a chunk of size 218, which is longer than the specified 200\n",
      "Created a chunk of size 205, which is longer than the specified 200\n",
      "Created a chunk of size 310, which is longer than the specified 200\n",
      "Created a chunk of size 250, which is longer than the specified 200\n",
      "Created a chunk of size 338, which is longer than the specified 200\n",
      "Created a chunk of size 226, which is longer than the specified 200\n",
      "Created a chunk of size 283, which is longer than the specified 200\n"
     ]
    }
   ],
   "source": [
    "# Split and persist documents\n",
    "docs = text_splitter.split_documents(documents)\n",
    "db = Chroma.from_documents(\n",
    "    docs, embedding_function, persist_directory=\"./vector-store/yeni_vector_db\"\n",
    ")\n",
    "db.persist()"
   ]
  },
  {
   "cell_type": "code",
   "execution_count": 8,
   "id": "7ba4b2c3-e9f6-417c-80fa-78cd0b34654a",
   "metadata": {},
   "outputs": [],
   "source": [
    "llm = ChatOpenAI(temperature=0)"
   ]
  },
  {
   "cell_type": "code",
   "execution_count": 9,
   "id": "033d428a-3eb9-44bf-9143-c6a2743f26b3",
   "metadata": {},
   "outputs": [],
   "source": [
    "retriever_from_llm = MultiQueryRetriever.from_llm(\n",
    "    retriever=db.as_retriever(),\n",
    "    llm=llm,\n",
    ")"
   ]
  },
  {
   "cell_type": "code",
   "execution_count": 146,
   "id": "954f8894-0f41-4833-971f-678d39079ebe",
   "metadata": {},
   "outputs": [],
   "source": [
    "# question = \"Lisansüstü programlara ücret ödeyecek miyim? Doktora, tezsiz yüksek lisans ve yüksek lisans için ücretler kaç TL?\"\n",
    "# question = \"şehit ve gazi yakınları için ücretli mi?\"\n",
    "question= \"burs başvurusu yapabilir miyim? yapabilirsem nasıl yaparım?\"\n",
    "# question = \"nasıl yatay geçiş yapabilirim\"\n",
    "# question =\"Tezsiz Yüksek Lisans Programında kaç ders alırım\"\n",
    "# question =\"Lisansüstü programlarda kaç ders alırım\"\n",
    "# question =\"doktora programlarda kaç ders alırım\""
   ]
  },
  {
   "cell_type": "code",
   "execution_count": 147,
   "id": "28d02db7-a107-4e93-b3b1-a0bd5b3084ea",
   "metadata": {},
   "outputs": [],
   "source": [
    "unique_docs = retriever_from_llm.get_relevant_documents(query=question)"
   ]
  },
  {
   "cell_type": "code",
   "execution_count": 148,
   "id": "1488f4f8-e97b-4f28-bbc6-33abe99129a6",
   "metadata": {},
   "outputs": [],
   "source": [
    "# unique_docs[0].page_content"
   ]
  },
  {
   "cell_type": "code",
   "execution_count": 149,
   "id": "588d8764-321a-4576-889a-b57b145780d1",
   "metadata": {},
   "outputs": [],
   "source": [
    "from langchain.schema import AIMessage, HumanMessage, SystemMessage\n",
    "from langchain.prompts import HumanMessagePromptTemplate, SystemMessagePromptTemplate, ChatPromptTemplate"
   ]
  },
  {
   "cell_type": "code",
   "execution_count": 150,
   "id": "86e712d3-f7e8-440b-bd13-414aecd315bd",
   "metadata": {},
   "outputs": [],
   "source": [
    "human_message_template = \"{question} sorusuna aşağıda verilen bağlamdaki bilgilere ugun şekilde cevap ver.\\n{baglam}.\" \n",
    "human_message_prompt = HumanMessagePromptTemplate.from_template(human_message_template)\n",
    "system_message_template = \"Cevapta sadece sorunun en kısa cevabını döndür.\"\n",
    "system_message_prompt = SystemMessagePromptTemplate.from_template(system_message_template)"
   ]
  },
  {
   "cell_type": "code",
   "execution_count": 151,
   "id": "00b8ff1d-ba19-4ae5-8ea0-4c69d915a37d",
   "metadata": {},
   "outputs": [],
   "source": [
    "prompt = ChatPromptTemplate.from_messages([human_message_prompt,system_message_prompt])"
   ]
  },
  {
   "cell_type": "code",
   "execution_count": 152,
   "id": "a3515365-94ab-451b-a94f-f776d9ba2f57",
   "metadata": {},
   "outputs": [],
   "source": [
    "# prompt"
   ]
  },
  {
   "cell_type": "code",
   "execution_count": 153,
   "id": "eea4bd6e-c135-4823-8459-8480ad0dec51",
   "metadata": {},
   "outputs": [],
   "source": [
    "formatted_question = prompt.format_prompt(question=question, baglam=unique_docs).to_messages()"
   ]
  },
  {
   "cell_type": "code",
   "execution_count": 154,
   "id": "2cf3d24a-a279-4b2a-a26e-223623dd6518",
   "metadata": {},
   "outputs": [],
   "source": [
    "result = llm(formatted_question)"
   ]
  },
  {
   "cell_type": "code",
   "execution_count": 155,
   "id": "0684a056-9747-47b4-868f-daa6bae88b4e",
   "metadata": {},
   "outputs": [
    {
     "name": "stdout",
     "output_type": "stream",
     "text": [
      "Burs başvurusu Kredi ve Yurtlar Kurumunun (www.kyk.gov.tr) adresinden ilan edilen tarihlerde kurumun şartlarına göre ilgili sayfadan yapılır.\n"
     ]
    }
   ],
   "source": [
    "print(result.content)"
   ]
  },
  {
   "cell_type": "code",
   "execution_count": null,
   "id": "f9d2197b-d388-4851-9d66-91f0024221dc",
   "metadata": {},
   "outputs": [],
   "source": []
  },
  {
   "cell_type": "code",
   "execution_count": null,
   "id": "c560e603-5062-4126-82f7-1058bace60af",
   "metadata": {},
   "outputs": [],
   "source": []
  }
 ],
 "metadata": {
  "kernelspec": {
   "display_name": "Python 3 (ipykernel)",
   "language": "python",
   "name": "python3"
  },
  "language_info": {
   "codemirror_mode": {
    "name": "ipython",
    "version": 3
   },
   "file_extension": ".py",
   "mimetype": "text/x-python",
   "name": "python",
   "nbconvert_exporter": "python",
   "pygments_lexer": "ipython3",
   "version": "3.10.11"
  }
 },
 "nbformat": 4,
 "nbformat_minor": 5
}
