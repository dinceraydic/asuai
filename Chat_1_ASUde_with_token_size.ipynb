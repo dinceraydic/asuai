{
 "cells": [
  {
   "cell_type": "code",
   "execution_count": 1,
   "id": "c2c86553-ee05-4811-9321-52ff01aba9cf",
   "metadata": {},
   "outputs": [],
   "source": [
    "import os\n",
    "\n",
    "import streamlit as st\n",
    "from dotenv import load_dotenv"
   ]
  },
  {
   "cell_type": "code",
   "execution_count": 2,
   "id": "1f216494-6dc2-4995-9850-ad2684d2bdd7",
   "metadata": {},
   "outputs": [],
   "source": [
    "from langchain.chat_models import ChatOpenAI\n",
    "from langchain.document_loaders import TextLoader\n",
    "from langchain.embeddings import OpenAIEmbeddings\n",
    "from langchain.retrievers.multi_query import MultiQueryRetriever\n",
    "from langchain.text_splitter import CharacterTextSplitter\n",
    "from langchain.vectorstores import Chroma"
   ]
  },
  {
   "cell_type": "code",
   "execution_count": 3,
   "id": "588d8764-321a-4576-889a-b57b145780d1",
   "metadata": {},
   "outputs": [],
   "source": [
    "from langchain.prompts import HumanMessagePromptTemplate, SystemMessagePromptTemplate, ChatPromptTemplate"
   ]
  },
  {
   "cell_type": "code",
   "execution_count": 4,
   "id": "63392857-fb56-4344-bdfd-fa91235b691c",
   "metadata": {},
   "outputs": [],
   "source": [
    "# load_dotenv(\".env\")\n",
    "# api_key = os.environ.get(\"OPENAI_API_KEY\")"
   ]
  },
  {
   "cell_type": "code",
   "execution_count": 5,
   "id": "3c7852b1-a9ab-4ba3-a6cb-99e525b93493",
   "metadata": {},
   "outputs": [],
   "source": [
    "token_size = 200\n",
    "vector_store_persist_directory = f\"./vector-store/asu_ai_db_tr_{token_size}_token\"\n",
    "original_document_path = \"./data/yeni_sss.txt\""
   ]
  },
  {
   "cell_type": "code",
   "execution_count": 6,
   "id": "7467d0ae-a199-4255-a0a2-5cae68387c8d",
   "metadata": {},
   "outputs": [],
   "source": [
    "embedding_function = OpenAIEmbeddings()"
   ]
  },
  {
   "cell_type": "code",
   "execution_count": 7,
   "id": "2b13b3df-1b5b-486d-b397-1023034fc8e8",
   "metadata": {},
   "outputs": [],
   "source": [
    "if os.path.exists(vector_store_persist_directory):\n",
    "    # Load documents\n",
    "    loader = TextLoader(original_document_path, encoding=\"UTF-8\")\n",
    "    documents = loader.load()\n",
    "    text_splitter = CharacterTextSplitter.from_tiktoken_encoder(chunk_size=token_size)\n",
    "\n",
    "    # Split and persist documents\n",
    "    docs = text_splitter.split_documents(documents)\n",
    "    db = Chroma.from_documents(\n",
    "        docs, embedding_function, persist_directory=vector_store_persist_directory\n",
    "    )\n",
    "    db.persist()\n",
    "else:\n",
    "    db = Chroma(persist_directory=vector_store_persist_directory, embedding_function=embedding_function)"
   ]
  },
  {
   "cell_type": "code",
   "execution_count": 8,
   "id": "7ba4b2c3-e9f6-417c-80fa-78cd0b34654a",
   "metadata": {},
   "outputs": [],
   "source": [
    "llm = ChatOpenAI(temperature=0)"
   ]
  },
  {
   "cell_type": "code",
   "execution_count": 9,
   "id": "033d428a-3eb9-44bf-9143-c6a2743f26b3",
   "metadata": {},
   "outputs": [],
   "source": [
    "retriever_from_llm = MultiQueryRetriever.from_llm(\n",
    "    retriever=db.as_retriever(),\n",
    "    llm=llm,\n",
    ")"
   ]
  },
  {
   "cell_type": "code",
   "execution_count": 10,
   "id": "a4b5a70f-267c-4cfa-a1ea-e3980027a9ed",
   "metadata": {},
   "outputs": [],
   "source": [
    "def answer_my_question(question):\n",
    "    unique_docs = retriever_from_llm.get_relevant_documents(query=question)\n",
    "\n",
    "    human_message_template = \"{question} sorusuna aşağıda verilen bağlamdaki bilgilere ugun şekilde cevap ver.\\n{baglam}.\" \n",
    "    human_message_prompt = HumanMessagePromptTemplate.from_template(human_message_template)\n",
    "    system_message_template = \"Cevapta sadece sorunun en kısa cevabını döndür. Soru yeterince açık değilse soru alternatifleri vererek tekrar sorulmasını iste.\"\n",
    "    system_message_prompt = SystemMessagePromptTemplate.from_template(system_message_template)\n",
    "\n",
    "    prompt = ChatPromptTemplate.from_messages([human_message_prompt,system_message_prompt])\n",
    "    formatted_question = prompt.format_prompt(question=question, baglam=unique_docs).to_messages()\n",
    "    result = llm(formatted_question)\n",
    "    return result.content"
   ]
  },
  {
   "cell_type": "code",
   "execution_count": 17,
   "id": "6c89dbf2-dbeb-4e8d-b633-210eba4cf764",
   "metadata": {},
   "outputs": [
    {
     "data": {
      "text/plain": [
       "'Evet, tezsiz yüksek lisans programları genellikle ücretli olarak sunulmaktadır.'"
      ]
     },
     "execution_count": 17,
     "metadata": {},
     "output_type": "execute_result"
    }
   ],
   "source": [
    "answer_my_question(\"tezsiz yüksek lisans programlara ücret ödeyecek miyim?\")"
   ]
  },
  {
   "cell_type": "code",
   "execution_count": 22,
   "id": "c7a76519-5b0e-4cb4-8906-175044c4a902",
   "metadata": {},
   "outputs": [
    {
     "data": {
      "text/plain": [
       "'Lisansüstü programlara ücret ödeyip ödemeyeceğiniz üniversiteye ve programın türüne bağlıdır. Üniversiteler ve programlar arasında ücret politikaları farklılık gösterebilir. Bu nedenle, ücretler hakkında kesin bir bilgi almak için ilgili üniversitenin resmi web sitesini veya ilgili bölümü ile iletişime geçmeniz önerilir.'"
      ]
     },
     "execution_count": 22,
     "metadata": {},
     "output_type": "execute_result"
    }
   ],
   "source": [
    "answer_my_question('Lisansüstü programlara ücret ödeyecek miyim? Doktora, tezsiz yüksek lisans ve yüksek lisans için ücretler kaç TL?')"
   ]
  },
  {
   "cell_type": "code",
   "execution_count": 24,
   "id": "00c963c0-4208-41ea-b65f-712f625adca6",
   "metadata": {},
   "outputs": [
    {
     "data": {
      "text/plain": [
       "'Bu sorunun yanıtı, hangi lisansüstü programı seçtiğinize ve hangi üniversitede okumayı planladığınıza bağlıdır. Lisansüstü programlar genellikle ücretli olabilir, ancak bazı üniversiteler burs veya mali destek imkanları sunabilir. Bu nedenle, ücret ödeyip ödemeyeceğinizi öğrenmek için seçtiğiniz programın ve üniversitenin web sitesini kontrol etmeniz önemlidir.'"
      ]
     },
     "execution_count": 24,
     "metadata": {},
     "output_type": "execute_result"
    }
   ],
   "source": [
    "answer_my_question('Lisansüstü programlara ücret ödeyecek miyim?')"
   ]
  },
  {
   "cell_type": "code",
   "execution_count": 20,
   "id": "954f8894-0f41-4833-971f-678d39079ebe",
   "metadata": {},
   "outputs": [],
   "source": [
    "questions = [\n",
    "                \"Lisansüstü programlara ücret ödeyecek miyim? Doktora, tezsiz yüksek lisans ve yüksek lisans için ücretler kaç TL?\",\n",
    "                \"Lisansüstü programlara ücret ödeyecek miyim?\",\n",
    "                \"hangi lisansüstü programlar ücretsizdir?\",\n",
    "                \"hangi lisansüstü programlar ücretlidir?\",\n",
    "                \"tezsiz yüksek lisans programlara ücret ödeyecek miyim?\",\n",
    "                \"şehit ve gazi yakınları için ücretli mi?\",\n",
    "                \"burs başvurusu yapabilir miyim?\",\n",
    "                \"nasıl burs başvurusu yapabilirim?\",\n",
    "                \"nasıl yatay geçiş yapabilirim\",\n",
    "                \"Lisansüstü programlarda kaç ders alırım\",\n",
    "                \"Tezsiz Yüksek Lisansta kaç ders alırım\",\n",
    "                \"Tezli Yüksek Lisansta kaç ders alırım\",\n",
    "                \"doktorada kaç ders alırım\",\n",
    "                \"yüksek lisans tezi nasıl yazılır?\",\n",
    "                \"yüksek lisans tez savunması nasıl yapılır?\",\n",
    "                \"tez savunmasında başarısız öğrenciler ne yapmalı?\",\n",
    "                \"tez nasıl yazılır?\",    \n",
    "            ]"
   ]
  },
  {
   "cell_type": "code",
   "execution_count": 21,
   "id": "dcb3e14c-529b-4a88-803a-cba05f39e7bf",
   "metadata": {},
   "outputs": [
    {
     "name": "stdout",
     "output_type": "stream",
     "text": [
      "answer_my_question('Lisansüstü programlara ücret ödeyecek miyim? Doktora, tezsiz yüksek lisans ve yüksek lisans için ücretler kaç TL?')\n",
      "answer_my_question('Lisansüstü programlara ücret ödeyecek miyim?')\n",
      "answer_my_question('hangi lisansüstü programlar ücretsizdir?')\n",
      "answer_my_question('hangi lisansüstü programlar ücretlidir?')\n",
      "answer_my_question('tezsiz yüksek lisans programlara ücret ödeyecek miyim?')\n",
      "answer_my_question('şehit ve gazi yakınları için ücretli mi?')\n",
      "answer_my_question('burs başvurusu yapabilir miyim?')\n",
      "answer_my_question('nasıl burs başvurusu yapabilirim?')\n",
      "answer_my_question('nasıl yatay geçiş yapabilirim')\n",
      "answer_my_question('Lisansüstü programlarda kaç ders alırım')\n",
      "answer_my_question('Tezsiz Yüksek Lisansta kaç ders alırım')\n",
      "answer_my_question('Tezli Yüksek Lisansta kaç ders alırım')\n",
      "answer_my_question('doktorada kaç ders alırım')\n",
      "answer_my_question('yüksek lisans tezi nasıl yazılır?')\n",
      "answer_my_question('yüksek lisans tez savunması nasıl yapılır?')\n",
      "answer_my_question('tez savunmasında başarısız öğrenciler ne yapmalı?')\n",
      "answer_my_question('tez nasıl yazılır?')\n"
     ]
    }
   ],
   "source": [
    "for q in questions:\n",
    "    print(f\"answer_my_question('{q}')\")"
   ]
  },
  {
   "cell_type": "code",
   "execution_count": 13,
   "id": "f9d2197b-d388-4851-9d66-91f0024221dc",
   "metadata": {},
   "outputs": [],
   "source": [
    "# qnas = []"
   ]
  },
  {
   "cell_type": "code",
   "execution_count": 14,
   "id": "c560e603-5062-4126-82f7-1058bace60af",
   "metadata": {},
   "outputs": [],
   "source": [
    "# import time\n",
    "\n",
    "# for question in questions:\n",
    "#     qnas.append(\n",
    "#         {\n",
    "#             \"question\":question,\n",
    "#              \"answer\": answer_my_question(question)\n",
    "#         }\n",
    "#     )\n",
    "#     time.sleep(2)"
   ]
  },
  {
   "cell_type": "code",
   "execution_count": 15,
   "id": "48a5b786-7ad6-4c12-b9e4-fdd5718ef068",
   "metadata": {},
   "outputs": [],
   "source": [
    "# for item in qnas:\n",
    "#     print(f\"## Soru: {item['question']}\")\n",
    "#     print(f\"Cevap: {item['answer']}\")\n",
    "#     print(\"\")"
   ]
  },
  {
   "cell_type": "code",
   "execution_count": null,
   "id": "5f36973d-6245-40cc-8b9b-726aa59a32b7",
   "metadata": {},
   "outputs": [],
   "source": []
  }
 ],
 "metadata": {
  "kernelspec": {
   "display_name": "Python 3 (ipykernel)",
   "language": "python",
   "name": "python3"
  },
  "language_info": {
   "codemirror_mode": {
    "name": "ipython",
    "version": 3
   },
   "file_extension": ".py",
   "mimetype": "text/x-python",
   "name": "python",
   "nbconvert_exporter": "python",
   "pygments_lexer": "ipython3",
   "version": "3.11.6"
  }
 },
 "nbformat": 4,
 "nbformat_minor": 5
}
