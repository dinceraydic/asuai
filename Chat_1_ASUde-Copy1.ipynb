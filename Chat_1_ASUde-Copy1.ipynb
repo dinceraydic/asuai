{
 "cells": [
  {
   "cell_type": "code",
   "execution_count": 1,
   "id": "c2c86553-ee05-4811-9321-52ff01aba9cf",
   "metadata": {},
   "outputs": [],
   "source": [
    "import os\n",
    "\n",
    "import streamlit as st\n",
    "from dotenv import load_dotenv"
   ]
  },
  {
   "cell_type": "code",
   "execution_count": 2,
   "id": "1f216494-6dc2-4995-9850-ad2684d2bdd7",
   "metadata": {},
   "outputs": [],
   "source": [
    "from langchain.chat_models import ChatOpenAI\n",
    "from langchain.document_loaders import TextLoader\n",
    "from langchain.embeddings import OpenAIEmbeddings\n",
    "from langchain.retrievers.multi_query import MultiQueryRetriever\n",
    "from langchain.text_splitter import CharacterTextSplitter\n",
    "from langchain.vectorstores import Chroma"
   ]
  },
  {
   "cell_type": "code",
   "execution_count": 3,
   "id": "588d8764-321a-4576-889a-b57b145780d1",
   "metadata": {},
   "outputs": [],
   "source": [
    "from langchain.prompts import HumanMessagePromptTemplate, SystemMessagePromptTemplate, ChatPromptTemplate"
   ]
  },
  {
   "cell_type": "code",
   "execution_count": 4,
   "id": "63392857-fb56-4344-bdfd-fa91235b691c",
   "metadata": {},
   "outputs": [],
   "source": [
    "# load_dotenv(\".env\")\n",
    "# api_key = os.environ.get(\"OPENAI_API_KEY\")"
   ]
  },
  {
   "cell_type": "code",
   "execution_count": 5,
   "id": "3c7852b1-a9ab-4ba3-a6cb-99e525b93493",
   "metadata": {},
   "outputs": [],
   "source": [
    "token_size = 300\n",
    "vector_store_persist_directory = f\"./vector-store/asu_ai_db_tr_{token_size}_token\"\n",
    "original_document_path = \"./data/yeni_sss.txt\""
   ]
  },
  {
   "cell_type": "code",
   "execution_count": 6,
   "id": "7467d0ae-a199-4255-a0a2-5cae68387c8d",
   "metadata": {},
   "outputs": [],
   "source": [
    "embedding_function = OpenAIEmbeddings()"
   ]
  },
  {
   "cell_type": "code",
   "execution_count": 7,
   "id": "2b13b3df-1b5b-486d-b397-1023034fc8e8",
   "metadata": {},
   "outputs": [],
   "source": [
    "if os.path.exists(vector_store_persist_directory):\n",
    "    # Load documents\n",
    "    loader = TextLoader(original_document_path, encoding=\"UTF-8\")\n",
    "    documents = loader.load()\n",
    "    text_splitter = CharacterTextSplitter.from_tiktoken_encoder(chunk_size=token_size)\n",
    "\n",
    "    # Split and persist documents\n",
    "    docs = text_splitter.split_documents(documents)\n",
    "    db = Chroma.from_documents(\n",
    "        docs, embedding_function, persist_directory=vector_store_persist_directory\n",
    "    )\n",
    "    db.persist()\n",
    "else:\n",
    "    db = Chroma(persist_directory=vector_store_persist_directory, embedding_function=embedding_function)"
   ]
  },
  {
   "cell_type": "code",
   "execution_count": 8,
   "id": "7ba4b2c3-e9f6-417c-80fa-78cd0b34654a",
   "metadata": {},
   "outputs": [],
   "source": [
    "llm = ChatOpenAI(temperature=0)"
   ]
  },
  {
   "cell_type": "code",
   "execution_count": 9,
   "id": "033d428a-3eb9-44bf-9143-c6a2743f26b3",
   "metadata": {},
   "outputs": [],
   "source": [
    "retriever_from_llm = MultiQueryRetriever.from_llm(\n",
    "    retriever=db.as_retriever(),\n",
    "    llm=llm,\n",
    ")"
   ]
  },
  {
   "cell_type": "code",
   "execution_count": 10,
   "id": "a4b5a70f-267c-4cfa-a1ea-e3980027a9ed",
   "metadata": {},
   "outputs": [],
   "source": [
    "def answer_my_question(question):\n",
    "    unique_docs = retriever_from_llm.get_relevant_documents(query=question)\n",
    "\n",
    "    human_message_template = \"{question} sorusuna aşağıda verilen bağlamdaki bilgilere ugun şekilde cevap ver.\\n{baglam}.\" \n",
    "    human_message_prompt = HumanMessagePromptTemplate.from_template(human_message_template)\n",
    "    system_message_template = \"Cevapta sadece sorunun en kısa cevabını döndür. Soru yeterince açık değilse soru alternatifleri vererek tekrar sorulmasını iste.\"\n",
    "    system_message_prompt = SystemMessagePromptTemplate.from_template(system_message_template)\n",
    "\n",
    "    prompt = ChatPromptTemplate.from_messages([human_message_prompt,system_message_prompt])\n",
    "    formatted_question = prompt.format_prompt(question=question, baglam=unique_docs).to_messages()\n",
    "    result = llm(formatted_question)\n",
    "    return result.content"
   ]
  },
  {
   "cell_type": "code",
   "execution_count": 11,
   "id": "954f8894-0f41-4833-971f-678d39079ebe",
   "metadata": {},
   "outputs": [],
   "source": [
    "questions = [\n",
    "                \"Lisansüstü programlara ücret ödeyecek miyim? Doktora, tezsiz yüksek lisans ve yüksek lisans için ücretler kaç TL?\",\n",
    "                \"Lisansüstü programlara ücret ödeyecek miyim?\",\n",
    "                \"hangi lisansüstü programlar ücretsizdir?\",\n",
    "                \"hangi lisansüstü programlar ücretlidir?\",\n",
    "                \"tezsiz yüksek lisans programlara ücret ödeyecek miyim?\",\n",
    "                \"şehit ve gazi yakınları için ücretli mi?\",\n",
    "                \"burs başvurusu yapabilir miyim?\",\n",
    "                \"nasıl burs başvurusu yapabilirim?\",\n",
    "                \"nasıl yatay geçiş yapabilirim\",\n",
    "                \"Lisansüstü programlarda kaç ders alırım\",\n",
    "                \"Tezsiz Yüksek Lisansta kaç ders alırım\",\n",
    "                \"Tezli Yüksek Lisansta kaç ders alırım\",\n",
    "                \"doktorada kaç ders alırım\",\n",
    "                \"yüksek lisans tezi nasıl yazılır?\",\n",
    "                \"yüksek lisans tez savunması nasıl yapılır?\",\n",
    "                \"tez savunmasında başarısız öğrenciler ne yapmalı?\",\n",
    "                \"tez nasıl yazılır?\",    \n",
    "            ]"
   ]
  },
  {
   "cell_type": "code",
   "execution_count": 12,
   "id": "f9d2197b-d388-4851-9d66-91f0024221dc",
   "metadata": {},
   "outputs": [],
   "source": [
    "qnas = []"
   ]
  },
  {
   "cell_type": "code",
   "execution_count": 13,
   "id": "c560e603-5062-4126-82f7-1058bace60af",
   "metadata": {},
   "outputs": [],
   "source": [
    "import time\n",
    "\n",
    "for question in questions:\n",
    "    qnas.append(\n",
    "        {\n",
    "            \"question\":question,\n",
    "             \"answer\": answer_my_question(question)\n",
    "        }\n",
    "    )\n",
    "    time.sleep(2)"
   ]
  },
  {
   "cell_type": "code",
   "execution_count": 14,
   "id": "48a5b786-7ad6-4c12-b9e4-fdd5718ef068",
   "metadata": {},
   "outputs": [
    {
     "name": "stdout",
     "output_type": "stream",
     "text": [
      "## Soru: Lisansüstü programlara ücret ödeyecek miyim? Doktora, tezsiz yüksek lisans ve yüksek lisans için ücretler kaç TL?\n",
      "Cevap: Lisansüstü programlara ücret ödeyip ödemeyeceğiniz üniversiteye ve programın türüne bağlıdır. Üniversiteler ve programlar arasında ücret politikaları farklılık gösterebilir. Bu nedenle, ücretler hakkında kesin bir bilgi almak için ilgili üniversitenin resmi web sitesini veya ilgili bölümü ile iletişime geçmeniz önerilir.\n",
      "\n",
      "## Soru: Lisansüstü programlara ücret ödeyecek miyim?\n",
      "Cevap: Bu sorunun yanıtı, hangi lisansüstü programı seçtiğinize ve hangi üniversitede okumayı planladığınıza bağlıdır. Lisansüstü programlar genellikle ücretlidir, ancak bazı üniversiteler burs veya mali destek sağlayabilir. Bu nedenle, ücret ödeyip ödemeyeceğinizi öğrenmek için seçtiğiniz programın ve üniversitenin web sitesini kontrol etmeniz önemlidir.\n",
      "\n",
      "## Soru: hangi lisansüstü programlar ücretsizdir?\n",
      "Cevap: Hangi lisansüstü programların ücretsiz olduğunu belirtmek için daha fazla bilgiye ihtiyacım var. Hangi alanda lisansüstü program arıyorsunuz?\n",
      "\n",
      "## Soru: hangi lisansüstü programlar ücretlidir?\n",
      "Cevap: Hangi lisansüstü programların ücretli olduğunu belirtmek için daha spesifik bir soru sormamız gerekiyor. Hangi alanda lisansüstü programlardan bahsetmek istiyorsunuz?\n",
      "\n",
      "## Soru: tezsiz yüksek lisans programlara ücret ödeyecek miyim?\n",
      "Cevap: Evet, tezsiz yüksek lisans programları genellikle ücretli olarak sunulmaktadır.\n",
      "\n",
      "## Soru: şehit ve gazi yakınları için ücretli mi?\n",
      "Cevap: Ücretli veya ücretsiz olduğuna dair bilgi verilmemiştir. Lütfen daha spesifik bir soru sorunuz.\n",
      "\n",
      "## Soru: burs başvurusu yapabilir miyim?\n",
      "Cevap: Evet, burs başvurusu yapabilirsiniz.\n",
      "\n",
      "## Soru: nasıl burs başvurusu yapabilirim?\n",
      "Cevap: Burs başvurusu yapmak için öncelikle hangi kurum veya kuruluşun burs programına başvurmak istediğinizi belirlemeniz gerekmektedir. Ardından, ilgili kurumun internet sitesine girerek başvuru şartlarını ve başvuru sürecini öğrenmelisiniz. Başvuru süreci genellikle online olarak gerçekleştirilmektedir. Başvuru formunu doldurarak gerekli belgeleri eklemeniz ve başvuru süresi içinde başvurunuzu tamamlamanız gerekmektedir. Başvurunuzun sonucunu takip etmek için ilgili kurumun duyurularını ve iletişim kanallarını takip etmelisiniz.\n",
      "\n",
      "## Soru: nasıl yatay geçiş yapabilirim\n",
      "Cevap: Yatay geçiş yapmak için öncelikle hedeflediğiniz üniversitenin yatay geçiş kabul şartlarını ve sürecini öğrenmeniz gerekmektedir. Ardından, başvuru tarihlerini takip ederek başvurunuzu yapabilirsiniz. Başvurunuzun kabul edilmesi durumunda, üniversitenin belirlediği koşullara uygun olarak yatay geçiş yapabilirsiniz.\n",
      "\n",
      "## Soru: Lisansüstü programlarda kaç ders alırım\n",
      "Cevap: Lisansüstü programlarda kaç ders alacağınız programın gerekliliklerine ve programın süresine bağlı olarak değişir. Bu nedenle, kesin bir sayı vermek mümkün değildir. Programın müfredatına ve programın süresine göre ders sayısı değişebilir.\n",
      "\n",
      "## Soru: Tezsiz Yüksek Lisansta kaç ders alırım\n",
      "Cevap: Tezsiz Yüksek Lisans programında kaç ders alacağınız, tercih ettiğiniz üniversitenin ve programın gerekliliklerine bağlı olarak değişebilir. Bu nedenle, kaç ders alacağınızı öğrenmek için tercih ettiğiniz üniversitenin ilgili bölümüne veya program koordinatörüne başvurmanız gerekmektedir.\n",
      "\n",
      "## Soru: Tezli Yüksek Lisansta kaç ders alırım\n",
      "Cevap: Tezli yüksek lisans programlarında ders almak yerine genellikle tez çalışması yapılır. Bu nedenle tezli yüksek lisans programlarında ders almak zorunlu değildir.\n",
      "\n",
      "## Soru: doktorada kaç ders alırım\n",
      "Cevap: Doktorada kaç ders alacağınız, doktora programının gerekliliklerine ve üniversitenizin politikalarına bağlı olarak değişebilir. Bu nedenle, doktora programınızın müfredatını ve üniversitenizin doktora derecesi için gereken ders sayısını kontrol etmeniz önemlidir.\n",
      "\n",
      "## Soru: yüksek lisans tezi nasıl yazılır?\n",
      "Cevap: Yüksek lisans tezi yazmak için öncelikle konu seçimi yapılmalıdır. Ardından literatür taraması yaparak mevcut bilgileri incelemek ve tez konusuyla ilgili araştırmaları takip etmek önemlidir. Tez planı oluşturulmalı ve araştırma yöntemleri belirlenmelidir. Veri toplama süreci gerçekleştirildikten sonra elde edilen veriler analiz edilmeli ve sonuçlar çıkarılmalıdır. Tez yazımında giriş, literatür taraması, yöntem, bulgular, tartışma ve sonuç bölümleri yer almalıdır. Tez yazımında akademik dil ve kaynak gösterme kurallarına dikkat edilmelidir.\n",
      "\n",
      "## Soru: yüksek lisans tez savunması nasıl yapılır?\n",
      "Cevap: Yüksek lisans tez savunması, öğrencinin yaptığı tez çalışmasını jüri önünde sunarak savunmasını yapması sürecidir.\n",
      "\n",
      "## Soru: tez savunmasında başarısız öğrenciler ne yapmalı?\n",
      "Cevap: Başarısız öğrenciler, tez savunmasında başarılı olmak için aşağıdaki adımları takip edebilir:\n",
      "\n",
      "1. Öncelikle, tez çalışmasını ve savunma sürecini daha iyi anlamak için danışmanlarıyla iletişime geçmelidirler. Danışmanlarından geri bildirim alarak eksikliklerini ve geliştirmelerini belirlemeleri önemlidir.\n",
      "\n",
      "2. Tez savunması için gereken bilgi ve becerileri geliştirmek için ek kaynaklardan yararlanabilirler. Örneğin, tez savunmasıyla ilgili kitaplar, makaleler veya çevrimiçi kaynaklar incelenebilir.\n",
      "\n",
      "3. Tez savunması için hazırlık yapmak için zaman ayırmaları önemlidir. Savunma öncesinde tezlerini ve sunumlarını tekrar gözden geçirmeli, sorulara hazırlıklı olmalı ve pratik yapmalıdırlar.\n",
      "\n",
      "4. Başarısızlık nedenlerini analiz etmek ve hatalardan ders çıkarmak önemlidir. Öğrenciler, tez savunmasındaki zayıf noktalarını belirleyerek bu alanlarda daha fazla çalışma yapabilirler.\n",
      "\n",
      "5. Destek almak için çevrelerindeki akademik veya profesyonel kaynaklardan yardım isteyebilirler. Öğrenci kulüpleri, akademik danışmanlar veya mezun öğrenciler gibi kaynaklar, tez savunmasıyla ilgili sorunları çözmek için yardımcı olabilir.\n",
      "\n",
      "6. Son olarak, başarısızlıkla başa çıkmak için motivasyonlarını korumaları önemlidir. Başarısızlık bir fırsat olarak görülmeli ve daha iyi bir tez savunması için çalışmalarına devam etmelidirler.\n",
      "\n",
      "## Soru: tez nasıl yazılır?\n",
      "Cevap: Tez, bir araştırma veya inceleme konusunu derinlemesine ele alan ve bilimsel bir yöntemle hazırlanan bir akademik çalışmadır. Tezler genellikle lisansüstü eğitim programlarının bir parçası olarak hazırlanır ve öğrencinin belirli bir konuda uzmanlaşmasını sağlar. Tezler, genellikle bir sorunun analizini, literatür taramasını, veri toplama ve analizini içerir ve sonuçlarla birlikte sunulur. Tezler, öğrencinin araştırma becerilerini geliştirmesine ve bilimsel düşünme yeteneğini kullanmasına yardımcı olur.\n",
      "\n"
     ]
    }
   ],
   "source": [
    "for item in qnas:\n",
    "    print(f\"## Soru: {item['question']}\")\n",
    "    print(f\"Cevap: {item['answer']}\")\n",
    "    print(\"\")"
   ]
  },
  {
   "cell_type": "code",
   "execution_count": null,
   "id": "5f36973d-6245-40cc-8b9b-726aa59a32b7",
   "metadata": {},
   "outputs": [],
   "source": []
  }
 ],
 "metadata": {
  "kernelspec": {
   "display_name": "Python 3 (ipykernel)",
   "language": "python",
   "name": "python3"
  },
  "language_info": {
   "codemirror_mode": {
    "name": "ipython",
    "version": 3
   },
   "file_extension": ".py",
   "mimetype": "text/x-python",
   "name": "python",
   "nbconvert_exporter": "python",
   "pygments_lexer": "ipython3",
   "version": "3.11.6"
  }
 },
 "nbformat": 4,
 "nbformat_minor": 5
}
