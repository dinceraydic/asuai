{
 "cells": [
  {
   "cell_type": "code",
   "execution_count": 1,
   "id": "c2c86553-ee05-4811-9321-52ff01aba9cf",
   "metadata": {},
   "outputs": [],
   "source": [
    "import os\n",
    "\n",
    "import streamlit as st\n",
    "from dotenv import load_dotenv"
   ]
  },
  {
   "cell_type": "code",
   "execution_count": 2,
   "id": "1f216494-6dc2-4995-9850-ad2684d2bdd7",
   "metadata": {},
   "outputs": [],
   "source": [
    "from langchain.chat_models import ChatOpenAI\n",
    "from langchain.document_loaders import TextLoader\n",
    "from langchain.embeddings import OpenAIEmbeddings\n",
    "from langchain.retrievers.multi_query import MultiQueryRetriever\n",
    "from langchain.text_splitter import CharacterTextSplitter\n",
    "from langchain.vectorstores import Chroma"
   ]
  },
  {
   "cell_type": "code",
   "execution_count": 3,
   "id": "588d8764-321a-4576-889a-b57b145780d1",
   "metadata": {},
   "outputs": [],
   "source": [
    "from langchain.prompts import HumanMessagePromptTemplate, SystemMessagePromptTemplate, ChatPromptTemplate"
   ]
  },
  {
   "cell_type": "code",
   "execution_count": 4,
   "id": "63392857-fb56-4344-bdfd-fa91235b691c",
   "metadata": {},
   "outputs": [],
   "source": [
    "# load_dotenv(\".env\")\n",
    "# api_key = os.environ.get(\"OPENAI_API_KEY\")"
   ]
  },
  {
   "cell_type": "code",
   "execution_count": 5,
   "id": "3c7852b1-a9ab-4ba3-a6cb-99e525b93493",
   "metadata": {},
   "outputs": [],
   "source": [
    "vector_store_persist_directory = \"./vector-store/asu_ai_db_tr\"\n",
    "original_document_path = \"./data/yeni_sss.txt\""
   ]
  },
  {
   "cell_type": "code",
   "execution_count": 6,
   "id": "bcc323e0-18e6-4754-92ab-4a4adbe479d8",
   "metadata": {},
   "outputs": [],
   "source": [
    "# vector_store_persist_directory = \"./vector-store/asu_ai_db_tr_SSS\"\n",
    "# original_document_path = \"./data/SSS.txt\""
   ]
  },
  {
   "cell_type": "code",
   "execution_count": 7,
   "id": "7467d0ae-a199-4255-a0a2-5cae68387c8d",
   "metadata": {},
   "outputs": [],
   "source": [
    "embedding_function = OpenAIEmbeddings()"
   ]
  },
  {
   "cell_type": "code",
   "execution_count": 8,
   "id": "2b13b3df-1b5b-486d-b397-1023034fc8e8",
   "metadata": {
    "scrolled": true
   },
   "outputs": [],
   "source": [
    "# if os.path.exists(vector_store_persist_directory):\n",
    "#     # Load documents\n",
    "#     loader = TextLoader(original_document_path, encoding=\"UTF-8\")\n",
    "#     documents = loader.load()\n",
    "#     text_splitter = CharacterTextSplitter.from_tiktoken_encoder(chunk_size=200)\n",
    "\n",
    "#     # Split and persist documents\n",
    "#     docs = text_splitter.split_documents(documents)\n",
    "#     db = Chroma.from_documents(\n",
    "#         docs, embedding_function, persist_directory=vector_store_persist_directory\n",
    "#     )\n",
    "#     db.persist()\n",
    "# else:\n",
    "#     db = Chroma(persist_directory=vector_store_persist_directory, embedding_function=embedding_function)"
   ]
  },
  {
   "cell_type": "code",
   "execution_count": 9,
   "id": "79f0089e-6168-43f0-b4ac-53109498f1dc",
   "metadata": {},
   "outputs": [],
   "source": [
    "db = Chroma(persist_directory=vector_store_persist_directory, embedding_function=embedding_function)"
   ]
  },
  {
   "cell_type": "code",
   "execution_count": 10,
   "id": "7ba4b2c3-e9f6-417c-80fa-78cd0b34654a",
   "metadata": {},
   "outputs": [],
   "source": [
    "llm = ChatOpenAI(temperature=0, model=\"gpt-3.5-turbo\")"
   ]
  },
  {
   "cell_type": "code",
   "execution_count": 11,
   "id": "033d428a-3eb9-44bf-9143-c6a2743f26b3",
   "metadata": {},
   "outputs": [],
   "source": [
    "retriever_from_llm = MultiQueryRetriever.from_llm(\n",
    "    retriever=db.as_retriever(),\n",
    "    llm=llm,\n",
    ")"
   ]
  },
  {
   "cell_type": "code",
   "execution_count": 12,
   "id": "a4b5a70f-267c-4cfa-a1ea-e3980027a9ed",
   "metadata": {},
   "outputs": [],
   "source": [
    "def answer_my_question(question):\n",
    "    unique_docs = retriever_from_llm.get_relevant_documents(query=question)\n",
    "\n",
    "    human_message_template = \"{question} sorusuna aşağıda verilen bağlamdaki bilgilere ugun şekilde cevap ver.\\n{baglam}.\" \n",
    "    human_message_prompt = HumanMessagePromptTemplate.from_template(human_message_template)\n",
    "    system_message_template = \"Cevapta sadece sorunun en kısa cevabını döndür. Soru yeterince açık değilse soru alternatifleri vererek tekrar sorulmasını iste.\"\n",
    "    system_message_prompt = SystemMessagePromptTemplate.from_template(system_message_template)\n",
    "\n",
    "    prompt = ChatPromptTemplate.from_messages([human_message_prompt,system_message_prompt])\n",
    "    formatted_question = prompt.format_prompt(question=question, baglam=unique_docs).to_messages()\n",
    "    result = llm(formatted_question)\n",
    "    return result.content"
   ]
  },
  {
   "cell_type": "code",
   "execution_count": 13,
   "id": "5e729505-5121-4801-ae8c-4df60c6b4c71",
   "metadata": {},
   "outputs": [],
   "source": [
    "# answer_my_question('Lisansüstü programlara ücret ödeyecek miyim?')"
   ]
  },
  {
   "cell_type": "code",
   "execution_count": 14,
   "id": "954f8894-0f41-4833-971f-678d39079ebe",
   "metadata": {},
   "outputs": [],
   "source": [
    "questions = [\n",
    "                # \"Lisansüstü programlara ücret ödeyecek miyim? Doktora, tezsiz yüksek lisans ve yüksek lisans için ücretler kaç TL?\",\n",
    "                # \"Lisansüstü programlara ücret ödeyecek miyim?\",\n",
    "                # \"hangi lisansüstü programlar ücretsizdir?\",\n",
    "                # \"hangi lisansüstü programlar ücretlidir?\",\n",
    "                # \"tezsiz yüksek lisans programlara ücret ödeyecek miyim?\",\n",
    "                # \"şehit ve gazi yakınları için ücretli mi?\",\n",
    "                # \"burs başvurusu yapabilir miyim?\",\n",
    "                # \"nasıl burs başvurusu yapabilirim?\",\n",
    "                # \"nasıl yatay geçiş yapabilirim\",\n",
    "                # \"Lisansüstü programlarda kaç ders alırım\",\n",
    "                # \"Tezsiz Yüksek Lisansta kaç ders alırım\",\n",
    "                # \"Tezli Yüksek Lisansta kaç ders alırım\",\n",
    "                # \"doktorada kaç ders alırım\",\n",
    "                \"yüksek lisans tezi nasıl yazılır?\",\n",
    "                \"yüksek lisans tez savunması nasıl yapılır?\",\n",
    "                \"tez savunmasında başarısız öğrenciler ne yapmalı?\",\n",
    "                \"tez nasıl yazılır?\",    \n",
    "            ]"
   ]
  },
  {
   "cell_type": "code",
   "execution_count": 15,
   "id": "f9d2197b-d388-4851-9d66-91f0024221dc",
   "metadata": {},
   "outputs": [],
   "source": [
    "qnas = []"
   ]
  },
  {
   "cell_type": "code",
   "execution_count": 16,
   "id": "c560e603-5062-4126-82f7-1058bace60af",
   "metadata": {},
   "outputs": [
    {
     "name": "stdout",
     "output_type": "stream",
     "text": [
      "Tezsiz Yüksek Lisansta kaç ders alırım\n",
      "Tezli Yüksek Lisansta kaç ders alırım\n",
      "doktorada kaç ders alırım\n"
     ]
    }
   ],
   "source": [
    "for question in questions:\n",
    "    qnas.append(\n",
    "        {\n",
    "            \"question\":question,\n",
    "             \"answer\": answer_my_question(question)\n",
    "        }\n",
    "    )\n",
    "    print(question)"
   ]
  },
  {
   "cell_type": "code",
   "execution_count": 17,
   "id": "48a5b786-7ad6-4c12-b9e4-fdd5718ef068",
   "metadata": {},
   "outputs": [
    {
     "name": "stdout",
     "output_type": "stream",
     "text": [
      "## Soru: Tezsiz Yüksek Lisansta kaç ders alırım\n",
      "Cevap: Tezsiz Yüksek Lisans programında bir yarıyıl içerisinde en az 3, en fazla 7 ders alabilirsiniz.\n",
      "\n",
      "## Soru: Tezli Yüksek Lisansta kaç ders alırım\n",
      "Cevap: Tezli Yüksek Lisans Programında bir yarıyılda en az 2, en fazla 5 ders (seçmeli veya zorunlu) + Uzmanlık Alan Dersi alabilirsiniz.\n",
      "\n",
      "## Soru: doktorada kaç ders alırım\n",
      "Cevap: Doktora programında bir dönemde en az 2, en fazla 5 ders alabilirsiniz. Uzmanlık alan dersi de dahildir.\n",
      "\n"
     ]
    }
   ],
   "source": [
    "for item in qnas:\n",
    "    print(f\"## Soru: {item['question']}\")\n",
    "    print(f\"Cevap: {item['answer']}\")\n",
    "    print(\"\")"
   ]
  },
  {
   "cell_type": "code",
   "execution_count": 18,
   "id": "5f36973d-6245-40cc-8b9b-726aa59a32b7",
   "metadata": {},
   "outputs": [],
   "source": [
    "# print(answer_my_question(\"Tezli Yüksek Lisansta kaç ders alırım\",))"
   ]
  },
  {
   "cell_type": "code",
   "execution_count": null,
   "id": "6a41497d-d387-4606-a6a6-45e7823eb030",
   "metadata": {},
   "outputs": [],
   "source": []
  }
 ],
 "metadata": {
  "kernelspec": {
   "display_name": "Python 3 (ipykernel)",
   "language": "python",
   "name": "python3"
  },
  "language_info": {
   "codemirror_mode": {
    "name": "ipython",
    "version": 3
   },
   "file_extension": ".py",
   "mimetype": "text/x-python",
   "name": "python",
   "nbconvert_exporter": "python",
   "pygments_lexer": "ipython3",
   "version": "3.10.11"
  }
 },
 "nbformat": 4,
 "nbformat_minor": 5
}
