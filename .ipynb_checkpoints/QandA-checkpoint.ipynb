{
 "cells": [
  {
   "cell_type": "markdown",
   "id": "3939ebf7-3028-4a3d-9aa0-0393ed9b23d8",
   "metadata": {},
   "source": [
    "# Q&A Application\n",
    "\n",
    "## Imports"
   ]
  },
  {
   "cell_type": "code",
   "execution_count": 1,
   "id": "6903d5f1-aea8-491c-befd-8f27d59b9b61",
   "metadata": {},
   "outputs": [],
   "source": [
    "import os\n",
    "import openai\n",
    "from dotenv import load_dotenv\n",
    "from langchain.chains import RetrievalQA\n",
    "from langchain.chains.question_answering import load_qa_chain\n",
    "from langchain.chat_models import ChatOpenAI\n",
    "from langchain.document_loaders import TextLoader\n",
    "from langchain.embeddings import OpenAIEmbeddings\n",
    "from langchain.text_splitter import CharacterTextSplitter\n",
    "from langchain.vectorstores import Chroma"
   ]
  },
  {
   "cell_type": "markdown",
   "id": "6e5e5533-8fb0-46dc-83bf-a434d79ac14c",
   "metadata": {},
   "source": [
    "## Define Variables"
   ]
  },
  {
   "cell_type": "code",
   "execution_count": 2,
   "id": "b5cdbf09-d4bc-41a6-b2c6-10a67a12b82f",
   "metadata": {},
   "outputs": [],
   "source": [
    "load_dotenv(\".env\")\n",
    "api_key = os.environ.get(\"OPENAI_API_KEY\")\n",
    "persist_vector_directory = \"./vector-store/son_vector_store_SSS\""
   ]
  },
  {
   "cell_type": "markdown",
   "id": "9d063937-9c18-4b69-b515-6f48dcc5749c",
   "metadata": {},
   "source": [
    "## Create LLM"
   ]
  },
  {
   "cell_type": "code",
   "execution_count": 3,
   "id": "463bf993-d9a6-498a-9bc1-fe864e16c26f",
   "metadata": {},
   "outputs": [],
   "source": [
    "llm = ChatOpenAI(temperature=0.0, model=\"gpt-3.5-turbo\")"
   ]
  },
  {
   "cell_type": "markdown",
   "id": "3d30e4ee-ecfe-4838-9f0f-9f239251462e",
   "metadata": {},
   "source": [
    "## Load Document"
   ]
  },
  {
   "cell_type": "code",
   "execution_count": 4,
   "id": "28f0d10d-cf42-4f09-a9a6-8bb67d2ccf73",
   "metadata": {},
   "outputs": [],
   "source": [
    "loader = TextLoader(\"./data/SSS.txt\", encoding=\"UTF-8\")\n",
    "documents = loader.load()"
   ]
  },
  {
   "cell_type": "markdown",
   "id": "aeecdbc7-56a2-4ebf-aa37-eb0201227753",
   "metadata": {},
   "source": [
    "## Split Document"
   ]
  },
  {
   "cell_type": "code",
   "execution_count": 5,
   "id": "401cf8e6-f4c1-49a9-8b26-6aa6f60455dd",
   "metadata": {},
   "outputs": [
    {
     "name": "stderr",
     "output_type": "stream",
     "text": [
      "Created a chunk of size 1238, which is longer than the specified 1000\n",
      "Created a chunk of size 1120, which is longer than the specified 1000\n"
     ]
    }
   ],
   "source": [
    "text_splitter = CharacterTextSplitter(\n",
    "    chunk_size=1000,\n",
    "    chunk_overlap=200,\n",
    ")\n",
    "\n",
    "docs = text_splitter.split_documents(documents)"
   ]
  },
  {
   "cell_type": "markdown",
   "id": "6e31f979-695c-46b8-a3a7-085d81aa9336",
   "metadata": {},
   "source": [
    "## Create Vector DB"
   ]
  },
  {
   "cell_type": "code",
   "execution_count": 6,
   "id": "4820fc49-ed80-418b-80b6-3c6dd4fab291",
   "metadata": {},
   "outputs": [],
   "source": [
    "vectordb = Chroma.from_documents(\n",
    "    documents=docs,\n",
    "    embedding=OpenAIEmbeddings(),\n",
    "    persist_directory=persist_vector_directory,\n",
    ")\n",
    "vectordb.persist()"
   ]
  },
  {
   "cell_type": "markdown",
   "id": "72b1eec5-79ba-4ed6-bfa9-eef5694a97e4",
   "metadata": {},
   "source": [
    "## Create Retriever Chain"
   ]
  },
  {
   "cell_type": "code",
   "execution_count": 7,
   "id": "64789b6c-27a7-40b8-b6f0-40870cfbaed9",
   "metadata": {},
   "outputs": [],
   "source": [
    "qa_chain = RetrievalQA.from_chain_type(\n",
    "    llm,\n",
    "    retriever=vectordb.as_retriever(\n",
    "        search_kwargs={\"k\": 3},\n",
    "    ),\n",
    "    return_source_documents=True,\n",
    ")"
   ]
  },
  {
   "cell_type": "markdown",
   "id": "e27f0d3a-757e-4c88-8ab3-78e7ca2e58bc",
   "metadata": {},
   "source": [
    "## Ask a question"
   ]
  },
  {
   "cell_type": "code",
   "execution_count": 8,
   "id": "573c4485-533f-4d4d-a698-d02d8cf6414b",
   "metadata": {},
   "outputs": [],
   "source": [
    "result = qa_chain(\"hangi programlar ücretsiz\")"
   ]
  },
  {
   "cell_type": "code",
   "execution_count": 9,
   "id": "98d05a75-5d8d-4c96-9354-6640218a26b2",
   "metadata": {},
   "outputs": [
    {
     "name": "stdout",
     "output_type": "stream",
     "text": [
      "Tezsiz Yüksek Lisans programlarında şehit ve gazi yakınları için ücretsiz eğitim avantajı bulunmaktadır.\n"
     ]
    }
   ],
   "source": [
    "print(result[\"result\"])"
   ]
  },
  {
   "cell_type": "code",
   "execution_count": 10,
   "id": "18c6b9db-3276-47c5-a777-1c0c7fc09247",
   "metadata": {},
   "outputs": [],
   "source": [
    "result = qa_chain(\"yüksek lisans ücretleri ne kadar\")"
   ]
  },
  {
   "cell_type": "code",
   "execution_count": 11,
   "id": "63046542-c4c2-43c1-b628-8b155515425e",
   "metadata": {},
   "outputs": [
    {
     "name": "stdout",
     "output_type": "stream",
     "text": [
      "Tezli Yüksek Lisans ve Doktora programları ücretsizdir. Tezsiz Yüksek Lisans programlarının ücreti ise 5500,00 TL'dir. Uzaktan Öğretim Tezsiz Yüksek Lisans programlarının ücreti ise 6500,00 TL'dir.\n"
     ]
    }
   ],
   "source": [
    "print(result[\"result\"])"
   ]
  },
  {
   "cell_type": "code",
   "execution_count": 12,
   "id": "f4759c47-2020-4d15-b8ed-5601d6361196",
   "metadata": {},
   "outputs": [
    {
     "data": {
      "text/plain": [
       "\"Tezli Yüksek Lisans ve Doktora programları ücretsizdir. Ancak, normal süre içinde mezun olunamadığı durumda, azami süre dolana kadar belirli bir ücret ödenmesi gerekebilir. Tezsiz Yüksek Lisans programları ise ücretlidir. Toplam ücretleri 5500,00 TL'dir ve iki eşit taksitle yarıyıl başlarında tahsil edilmektedir. Uzaktan Öğretim Tezsiz Yüksek Lisans programları ise ücretlidir ve toplam ücretleri 6500,00 TL'dir. Bu ücret de iki eşit taksitle yarıyıl başlarında tahsil edilmektedir.\""
      ]
     },
     "execution_count": 12,
     "metadata": {},
     "output_type": "execute_result"
    }
   ],
   "source": [
    "qa_chain(\"Lisansüstü programlara ücret ödeyecek miyim?\")[\"result\"]"
   ]
  },
  {
   "cell_type": "code",
   "execution_count": 13,
   "id": "7775eff2-cb1f-4242-9742-b308f2774de4",
   "metadata": {},
   "outputs": [
    {
     "data": {
      "text/plain": [
       "'Tez savunmasında başarısız olan öğrenciler, tez çalışmasını tamamlamak ve tez savunmasını tekrar yapmak için gerekli düzeltmeleri yapmalıdır. Öğrenciler, danışmanlarından ve ilgili akademik birimlerden destek alarak eksikliklerini gidermeli ve tezlerini yeniden hazırlamalıdır. Tez savunmasını tekrar yapmak için belirlenen süre ve prosedürlere uygun olarak hareket etmek önemlidir.'"
      ]
     },
     "execution_count": 13,
     "metadata": {},
     "output_type": "execute_result"
    }
   ],
   "source": [
    "qa_chain(\"tez savunmasında başarısız öğrenciler ne yapmalı?\")[\"result\"]"
   ]
  },
  {
   "cell_type": "code",
   "execution_count": null,
   "id": "09430dc1-71fa-48fa-89ce-7779a4b72019",
   "metadata": {},
   "outputs": [],
   "source": []
  }
 ],
 "metadata": {
  "kernelspec": {
   "display_name": "Python 3 (ipykernel)",
   "language": "python",
   "name": "python3"
  },
  "language_info": {
   "codemirror_mode": {
    "name": "ipython",
    "version": 3
   },
   "file_extension": ".py",
   "mimetype": "text/x-python",
   "name": "python",
   "nbconvert_exporter": "python",
   "pygments_lexer": "ipython3",
   "version": "3.10.11"
  }
 },
 "nbformat": 4,
 "nbformat_minor": 5
}
