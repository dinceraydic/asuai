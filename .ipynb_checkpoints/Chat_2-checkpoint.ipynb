{
 "cells": [
  {
   "cell_type": "code",
   "execution_count": 1,
   "id": "49ca4b93-1260-4b2e-8c50-1dce89d7bf12",
   "metadata": {},
   "outputs": [],
   "source": [
    "# VECTOR STORE\n",
    "# QA ON THAT VECTOR STORE"
   ]
  },
  {
   "cell_type": "code",
   "execution_count": 2,
   "id": "3410418e-3839-4f2a-bf81-affc6af12fc4",
   "metadata": {},
   "outputs": [],
   "source": [
    "from langchain.embeddings.openai import OpenAIEmbeddings"
   ]
  },
  {
   "cell_type": "code",
   "execution_count": 3,
   "id": "3c627bf3-6ebf-4622-9f3a-3f68fe6e932e",
   "metadata": {},
   "outputs": [],
   "source": [
    "from langchain.vectorstores import Chroma"
   ]
  },
  {
   "cell_type": "code",
   "execution_count": 4,
   "id": "02c98686-768c-4336-9647-63605f62adb2",
   "metadata": {},
   "outputs": [],
   "source": [
    "embedding_function = OpenAIEmbeddings()"
   ]
  },
  {
   "cell_type": "code",
   "execution_count": 5,
   "id": "b608f07f-8d55-49d8-9589-95a3c65667bc",
   "metadata": {},
   "outputs": [],
   "source": [
    "db_connection = Chroma(persist_directory=\"./vector-store/yeni_vector_db_3\", embedding_function=embedding_function)\n",
    "# db_connection = Chroma(persist_directory=\"./vector-store/asu_ai_db_tr\", embedding_function=embedding_function)"
   ]
  },
  {
   "cell_type": "code",
   "execution_count": 6,
   "id": "3a8716d8-1302-4a52-a913-d67c8ca3aaf3",
   "metadata": {},
   "outputs": [],
   "source": [
    "from langchain.chains.question_answering import load_qa_chain"
   ]
  },
  {
   "cell_type": "code",
   "execution_count": 7,
   "id": "d292fd75-fc28-47a6-9446-39e55ac726d8",
   "metadata": {},
   "outputs": [],
   "source": [
    "from langchain.chains.qa_with_sources import load_qa_with_sources_chain"
   ]
  },
  {
   "cell_type": "code",
   "execution_count": 8,
   "id": "bd299fb9-41b8-46e2-9ed4-a90481c32fdb",
   "metadata": {},
   "outputs": [],
   "source": [
    "from langchain.chat_models import ChatOpenAI"
   ]
  },
  {
   "cell_type": "code",
   "execution_count": 9,
   "id": "44cb4305-c944-44e5-bd44-b62b0fa382af",
   "metadata": {},
   "outputs": [],
   "source": [
    "llm=ChatOpenAI(temperature=0)"
   ]
  },
  {
   "cell_type": "code",
   "execution_count": 10,
   "id": "f1b9f760-c91d-4e80-92cb-5090b8b916f2",
   "metadata": {},
   "outputs": [],
   "source": [
    "chain = load_qa_chain(\n",
    "    llm,\n",
    "    chain_type=\"stuff\"\n",
    ")"
   ]
  },
  {
   "cell_type": "code",
   "execution_count": 11,
   "id": "81269739-628f-408a-8458-f3312613356e",
   "metadata": {},
   "outputs": [],
   "source": [
    "question = \"Hangi lisansüstü programlar ücretsizdir?\""
   ]
  },
  {
   "cell_type": "code",
   "execution_count": 12,
   "id": "cf5e5237-9001-4d6e-9b98-082a884a02ff",
   "metadata": {},
   "outputs": [],
   "source": [
    "docs = db_connection.similarity_search(question)"
   ]
  },
  {
   "cell_type": "code",
   "execution_count": 13,
   "id": "d7646d73-9852-46e4-b6b0-70970f81e3af",
   "metadata": {},
   "outputs": [
    {
     "name": "stdout",
     "output_type": "stream",
     "text": [
      "[Document(page_content='BAŞVURU SÜRECİ Lisansüstü programlarınıza ne zaman ve hangi şartlarda başvuru yapabilirim? Enstitümüz lisansüstü öğrenci alımları akademik takvimde belirtilen güz ve bahar yarıyıllarında yapılmaktadır. Başvuru minimum şartları: Program başvuru koşullarında istenen lisans mezuniyetine sahip olmak Program başvuru koşullarında istenen alanda ALES’ten en az 55 puan almış olmak. \\nDoktora Programı için de Yabancı Dil Sınavından en az 55 puan almış olmak Birden fazla lisansüstü programa başvuru yapabilir miyim? Enstitümüze bağlı 1 Tezsiz Yüksek Lisans ile 1 Tezli Yüksek Lisans veya 1 Tezsiz Yüksek Lisans ile1 Doktora programına başvuru yapabilirsiniz. \\nLisansüstü programlara ücret ödeyecek miyim? Tezli Yüksek Lisans ve Doktora programları ücretsiz olup normal süre içerisinde mezun olamadığınız takdirde azami süreniz dolana kadar ücret ödersiniz. Tezsiz Yüksek Lisans programları ücretli olup enstitümüz programlarının toplam ücreti 5500,00 TL’dir. İki eşit taksitle yarıyıl başlarında tahsil edilmektedir. Uzaktan Öğretim Tezsiz Yüksek Lisans programları ücretli olup  toplam ücreti 6500,00 TL’dir. İki eşit taksitle yarıyıl başlarında tahsil edilmektedir.', metadata={'source': './data/SSS.txt'}), Document(page_content='Enstitünüz lisansüstü programlarına nasıl yatay geçiş yapabilirim?\\n\\nBir yükseköğretim kurumunun lisansüstü programlarından, enstitümüzün eşdeğer lisansüstü programlarına yatay geçiş yapmak isteyen öğrenci, akademik takvimde belirtilen tarihlerde dilekçe ile enstitüye başvuru yapar.\\n\\nAyrıntılı bilgi için: http://sbe.aksaray.edu.tr/dosya/a9debbf9-d26f-4bdc-ae8d-4464d0097de9.pdf', metadata={'source': './data/SSS.txt'}), Document(page_content='Ayrıntılı bilgi için: http://sbe.aksaray.edu.tr/dosya/a9debbf9-d26f-4bdc-ae8d-4464d0097de9.pdf\\n\\nÖZEL ÖĞRENCİ SÜRECİ\\n\\nEnstitünüz lisansüstü programlarına özel öğrenci olarak nasıl başvuru yapabilirim?', metadata={'source': './data/SSS.txt'}), Document(page_content='Tezsiz yüksek lisans programlarında şehit ve gazi yakınları için ücretsiz, engelliler için ise; engellilik oranlarına göre indirim yapılmaktadır.\\n\\nTezsiz yüksek lisans programlarında protokol yapılan kurum çalışanları için ücret 3400TL’dir.\\n\\nAksaray üniversitesi personelleri için toplam ücret 2000TL’dir.', metadata={'source': './data/SSS.txt'})]\n"
     ]
    }
   ],
   "source": [
    "print(docs)"
   ]
  },
  {
   "cell_type": "code",
   "execution_count": 14,
   "id": "439908a5-54af-464e-bb49-631a676f289c",
   "metadata": {},
   "outputs": [],
   "source": [
    "result = chain.run(input_documents=docs, question=question)"
   ]
  },
  {
   "cell_type": "code",
   "execution_count": 15,
   "id": "c534a67d-a999-4e0c-a89b-035f8141c744",
   "metadata": {},
   "outputs": [
    {
     "data": {
      "text/plain": [
       "\"Tezli Yüksek Lisans ve Doktora programları ücretsizdir. Tezsiz Yüksek Lisans programları ise ücretlidir. Ancak, tezsiz yüksek lisans programlarında şehit ve gazi yakınları için ücretsiz, engelliler için ise engellilik oranlarına göre indirim yapılmaktadır. Aksaray Üniversitesi personelleri için ise toplam ücret 2000TL'dir.\""
      ]
     },
     "execution_count": 15,
     "metadata": {},
     "output_type": "execute_result"
    }
   ],
   "source": [
    "result"
   ]
  },
  {
   "cell_type": "code",
   "execution_count": 16,
   "id": "8411b1c5-6538-44ae-99ed-9353c4a9dd73",
   "metadata": {},
   "outputs": [],
   "source": [
    "questions = [\n",
    "                \"Lisansüstü programlara ücret ödeyecek miyim? Doktora, tezsiz yüksek lisans ve yüksek lisans için ücretler kaç TL?\",\n",
    "                \"Lisansüstü programlara ücret ödeyecek miyim?\",\n",
    "                \"hangi lisansüstü programlar ücretsizdir?\",\n",
    "                \"hangi lisansüstü programlar ücretlidir?\",\n",
    "                \"tezsiz yüksek lisans programlara ücret ödeyecek miyim?\",\n",
    "                \"şehit ve gazi yakınları için ücretli mi?\",\n",
    "                \"burs başvurusu yapabilir miyim?\",\n",
    "                \"nasıl burs başvurusu yapabilirim?\",\n",
    "                \"nasıl yatay geçiş yapabilirim\",\n",
    "                \"Lisansüstü programlarda kaç ders alırım\",\n",
    "                \"Tezsiz Yüksek Lisansta kaç ders alırım\",\n",
    "                \"doktorada kaç ders alırım\",\n",
    "            ]"
   ]
  },
  {
   "cell_type": "code",
   "execution_count": 18,
   "id": "9fa29368-64c2-4ec1-acc9-8b954f12e9e9",
   "metadata": {},
   "outputs": [],
   "source": [
    "qnas = []\n",
    "for question in questions:\n",
    "    qnas.append(\n",
    "        {\n",
    "            \"question\":question,\n",
    "             \"answer\": chain.run(input_documents=docs, question=question)\n",
    "        }\n",
    "    )"
   ]
  },
  {
   "cell_type": "code",
   "execution_count": 19,
   "id": "15446162-2f87-47a1-98df-d21937327ad5",
   "metadata": {},
   "outputs": [
    {
     "name": "stdout",
     "output_type": "stream",
     "text": [
      "Soru: Lisansüstü programlara ücret ödeyecek miyim? Doktora, tezsiz yüksek lisans ve yüksek lisans için ücretler kaç TL?\n",
      "Cevap: Doktora programı ve tezli yüksek lisans programları ücretsizdir. Ancak, normal süre içerisinde mezun olamadığınız takdirde azami süreniz dolana kadar ücret ödersiniz. \n",
      "\n",
      "Tezsiz yüksek lisans programları ücretlidir. Enstitümüz programlarının toplam ücreti 5500,00 TL'dir. Uzaktan öğretim tezsiz yüksek lisans programlarının toplam ücreti ise 6500,00 TL'dir. Ücretler iki eşit taksitle yarıyıl başlarında tahsil edilmektedir. \n",
      "\n",
      "Özel durumlar için farklı ücretlendirme politikaları uygulanmaktadır. Şehit ve gazi yakınları için tezsiz yüksek lisans programları ücretsizdir. Engelliler için ise engellilik oranlarına göre indirim yapılmaktadır. Protokol yapılan kurum çalışanları için tezsiz yüksek lisans programları için ücret 3400 TL'dir. Aksaray Üniversitesi personelleri için ise toplam ücret 2000 TL'dir.\n",
      "\n",
      "Soru: Lisansüstü programlara ücret ödeyecek miyim?\n",
      "Cevap: Tezli Yüksek Lisans ve Doktora programları ücretsiz olup normal süre içerisinde mezun olamadığınız takdirde azami süreniz dolana kadar ücret ödersiniz. Tezsiz Yüksek Lisans programları ücretli olup enstitümüz programlarının toplam ücreti 5500,00 TL’dir. İki eşit taksitle yarıyıl başlarında tahsil edilmektedir. Uzaktan Öğretim Tezsiz Yüksek Lisans programları ücretli olup toplam ücreti 6500,00 TL’dir. İki eşit taksitle yarıyıl başlarında tahsil edilmektedir.\n",
      "\n",
      "Soru: hangi lisansüstü programlar ücretsizdir?\n",
      "Cevap: Tezli Yüksek Lisans ve Doktora programları ücretsizdir. Tezsiz Yüksek Lisans programları ise ücretlidir. Ancak, Tezsiz Yüksek Lisans programlarında şehit ve gazi yakınları için ücretsiz, engelliler için ise engellilik oranlarına göre indirim yapılmaktadır. Aksaray Üniversitesi personelleri için ise toplam ücret 2000TL'dir.\n",
      "\n",
      "Soru: hangi lisansüstü programlar ücretlidir?\n",
      "Cevap: Tezsiz Yüksek Lisans programları ücretlidir. Enstitümüz programlarının toplam ücreti 5500,00 TL'dir. Uzaktan Öğretim Tezsiz Yüksek Lisans programları ise toplam ücreti 6500,00 TL'dir.\n",
      "\n",
      "Soru: tezsiz yüksek lisans programlara ücret ödeyecek miyim?\n",
      "Cevap: Tezsiz yüksek lisans programları ücretlidir. Enstitümüzün tezsiz yüksek lisans programlarının toplam ücreti 5500,00 TL'dir. Uzaktan öğretim tezsiz yüksek lisans programlarının ise toplam ücreti 6500,00 TL'dir. Bu ücretler, iki eşit taksitle yarıyıl başlarında tahsil edilmektedir.\n",
      "\n",
      "Soru: şehit ve gazi yakınları için ücretli mi?\n",
      "Cevap: Hayır, şehit ve gazi yakınları için tezsiz yüksek lisans programlarında ücretsizdir.\n",
      "\n",
      "Soru: burs başvurusu yapabilir miyim?\n",
      "Cevap: Bu bilgilere göre, burs başvurusu yapma şartları hakkında herhangi bir bilgi verilmemiştir. Bu nedenle, burs başvurusu yapabilir miyim sorusuna kesin bir cevap veremem. Daha fazla bilgi için Aksaray Üniversitesi'nin ilgili birimleriyle iletişime geçmeniz önerilir.\n",
      "\n",
      "Soru: nasıl burs başvurusu yapabilirim?\n",
      "Cevap: Burs başvurusu yapmak için öncelikle hangi burs programına başvurmak istediğinizi belirlemeniz gerekmektedir. Ardından, ilgili burs programının başvuru şartlarını ve sürecini öğrenmek için burs veren kurumun veya üniversitenin resmi internet sitesini ziyaret etmeniz önemlidir. Genellikle burs başvuruları online olarak yapılmaktadır. Başvuru sürecinde istenen belgeleri hazırlayarak başvurunuzu tamamlayabilirsiniz. Burs başvuruları genellikle belirli bir tarih aralığında alınır, bu nedenle başvuru süresini kaçırmamak önemlidir. Başvurunuzun sonucunu takip etmek için belirtilen iletişim kanallarını kullanabilirsiniz.\n",
      "\n",
      "Soru: nasıl yatay geçiş yapabilirim\n",
      "Cevap: Bir yükseköğretim kurumunun lisansüstü programlarından, enstitümüzün eşdeğer lisansüstü programlarına yatay geçiş yapmak isteyen öğrenci, akademik takvimde belirtilen tarihlerde dilekçe ile enstitüye başvuru yapar. Daha detaylı bilgi için http://sbe.aksaray.edu.tr/dosya/a9debbf9-d26f-4bdc-ae8d-4464d0097de9.pdf adresini ziyaret edebilirsiniz.\n",
      "\n",
      "Soru: Lisansüstü programlarda kaç ders alırım\n",
      "Cevap: Lisansüstü programlarda kaç ders alacağınız programın gerekliliklerine ve size sunulan seçeneklere bağlı olarak değişebilir. Bu konuda kesin bir bilgi vermek için daha fazla ayrıntıya ihtiyaç vardır. Başvurduğunuz programın müfredatını inceleyerek veya ilgili enstitüyle iletişime geçerek daha fazla bilgi alabilirsiniz.\n",
      "\n",
      "Soru: Tezsiz Yüksek Lisansta kaç ders alırım\n",
      "Cevap: Tezsiz Yüksek Lisans programında kaç ders alacağınız programın gerekliliklerine ve düzenlemelerine bağlı olarak değişebilir. Bu konuda daha fazla bilgi almak için Aksaray Üniversitesi Enstitüsüne başvurmanızı öneririm.\n",
      "\n",
      "Soru: doktorada kaç ders alırım\n",
      "Cevap: Doktora programında ders alımı genellikle lisansüstü eğitimde daha az vurgu yapılan bir konudur. Doktora programında genellikle araştırma odaklı bir çalışma yapılır ve ders alımı daha azdır. Ancak, doktora programının gereklilikleri ve programın kurallarına bağlı olarak, bazı dersler almanız gerekebilir. Bu konuda daha fazla bilgi için, başvurduğunuz üniversitenin doktora programının yönetmeliklerini veya ilgili bölümünü incelemeniz önemlidir.\n",
      "\n"
     ]
    }
   ],
   "source": [
    "for item in qnas:\n",
    "    print(f\"Soru: {item['question']}\")\n",
    "    print(f\"Cevap: {item['answer']}\")\n",
    "    print(\"\")"
   ]
  },
  {
   "cell_type": "code",
   "execution_count": null,
   "id": "c9b88756-9aae-4611-b872-87e37a32b6e8",
   "metadata": {},
   "outputs": [],
   "source": []
  }
 ],
 "metadata": {
  "kernelspec": {
   "display_name": "Python 3 (ipykernel)",
   "language": "python",
   "name": "python3"
  },
  "language_info": {
   "codemirror_mode": {
    "name": "ipython",
    "version": 3
   },
   "file_extension": ".py",
   "mimetype": "text/x-python",
   "name": "python",
   "nbconvert_exporter": "python",
   "pygments_lexer": "ipython3",
   "version": "3.11.6"
  }
 },
 "nbformat": 4,
 "nbformat_minor": 5
}
